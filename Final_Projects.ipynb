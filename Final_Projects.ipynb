{
  "cells": [
    {
      "cell_type": "markdown",
      "metadata": {
        "id": "V_6GaxSxGDDL"
      },
      "source": [
        "## Projects\n",
        "\n",
        "\n",
        "1.- Comparative gene expression profiling analysis of RNA-seq data for Trichomonas tenax-treated NCI-H292 cells. T. tenax is a neglected tropical disease  that affects oral cavities of people around the world.\n",
        "\n",
        " SRAID      | Treatment |\n",
        "------------|-----------|\n",
        "SRR23972383 | cocultured with Trichomonas tenax\n",
        "SRR23972384 | cocultured with Trichomonas tenax\n",
        "SRR23972385 | cocultured with Trichomonas tenax\n",
        "SRR23972386 | untreated\n",
        "SRR23972387 | untreated\n",
        "SRR23972388 | untreated\n",
        "\n",
        "2.- How does SARS-Cov-02 infection alter transcripyional acitivity. Overall design: Comparative gene expression profiling analysis of RNA-seq data using 4 types (uninfected/infected, young/mid-aged) of isolated lung endothelial cells.\n",
        "\n",
        " SRAID      | Age    |  Treatment |\n",
        "------------|--------|------------|\n",
        "SRR24206824 | Young  | SARS-CoV-2\n",
        "SRR24206825 | MidAge | SARS-CoV-2\n",
        "SRR24206826 | Young  | PBS\n",
        "SRR24206827 | MidAge | PBS\n",
        "\n",
        "3.- HIV-related comorbidities appear to be related to chronic inflammation. Cannabidiol (CBD) might reduce inflammation; however, the genetics underpinning this effect are not well investigated. Our main objective is to detect gene expression alterations in human peripheral blood mononuclear cells (PBMCs) from PLWH after at least one month of CBD treatment. We collected PBMCs from three HIV-positive subjects at baseline and after CBD treatment (at least 27 days) via single-cell RNA sequencing.\n",
        "\n",
        " SRAID      | Patient   | Treatment |\n",
        "------------|-----------|-----------|\n",
        "SRR24035593 | PAT5      |    CBD    |\n",
        "SRR24035594 | PAT5      |  Baseline |\n",
        "SRR24035595 | PAT3      |    CBD    |\n",
        "SRR24035596 | PAT3      |  Baseline |\n",
        "SRR24035597 | PAT2      |    CBD    |\n",
        "SRR24035598 | PAT2      |  Baseline |"
      ]
    },
    {
      "cell_type": "code",
      "execution_count": null,
      "metadata": {
        "id": "qadKhzojD_HC"
      },
      "outputs": [],
      "source": [
        "# Run this box as this! It is installing the NCBIs SRA toolkit! This is how we will be dowloading data.\n",
        "!wget https://ftp-trace.ncbi.nlm.nih.gov/sra/sdk/3.1.0/sratoolkit.3.1.0-ubuntu64.tar.gz .\n",
        "!tar -vxzf sratoolkit.3.1.0-ubuntu64.tar.gz\n",
        "!chmod +777 sratoolkit.3.1.0-ubuntu64/bin/fastq-dump"
      ]
    },
    {
      "cell_type": "code",
      "execution_count": null,
      "metadata": {
        "colab": {
          "base_uri": "https://localhost:8080/"
        },
        "id": "01-ZGg7CiUWy",
        "outputId": "dd77afab-5ef4-4434-f1f5-55ba17660471"
      },
      "outputs": [
        {
          "name": "stdout",
          "output_type": "stream",
          "text": [
            "Read 5000000 spots for SRR24035595\n",
            "Written 5000000 spots for SRR24035595\n"
          ]
        }
      ],
      "source": [
        "!sratoolkit.3.1.0-ubuntu64/bin/fastq-dump  -X 5000000 SRR24035595"
      ]
    },
    {
      "cell_type": "code",
      "execution_count": null,
      "metadata": {
        "id": "wg-VCkzSErQQ",
        "colab": {
          "base_uri": "https://localhost:8080/"
        },
        "outputId": "5f559702-996e-4e89-d5e7-6fc8f3c872a1"
      },
      "outputs": [
        {
          "output_type": "stream",
          "name": "stdout",
          "text": [
            "Read 5000000 spots for SRR24035593\n",
            "Written 5000000 spots for SRR24035593\n",
            "Read 5000000 spots for SRR24035594\n",
            "Written 5000000 spots for SRR24035594\n",
            "Read 5000000 spots for SRR24035595\n",
            "Written 5000000 spots for SRR24035595\n",
            "Read 5000000 spots for SRR24035596\n",
            "Written 5000000 spots for SRR24035596\n",
            "Read 5000000 spots for SRR24035597\n",
            "Written 5000000 spots for SRR24035597\n",
            "Read 5000000 spots for SRR24035598\n",
            "Written 5000000 spots for SRR24035598\n"
          ]
        }
      ],
      "source": [
        "### Start by downloading the data from the project you are interested in. Since this is a schoo project we\n",
        "### will be subsampling the data to 5 M reads\n",
        "!sratoolkit.3.1.0-ubuntu64/bin/fastq-dump  -X 5000000 SRR24035593 SRR24035594 SRR24035595 SRR24035596 SRR24035597 SRR24035598"
      ]
    },
    {
      "cell_type": "code",
      "execution_count": null,
      "metadata": {
        "id": "F0KXXaTMW2Dj"
      },
      "outputs": [],
      "source": [
        "!ls"
      ]
    },
    {
      "cell_type": "code",
      "execution_count": null,
      "metadata": {
        "id": "YKorViC9XDso"
      },
      "outputs": [],
      "source": [
        "!sudo apt-get install -y default-jre\n",
        "!java -version\n",
        "!wget https://www.bioinformatics.babraham.ac.uk/projects/fastqc/fastqc_v0.11.9.zip\n",
        "!unzip fastqc_v0.11.9.zip"
      ]
    },
    {
      "cell_type": "code",
      "execution_count": null,
      "metadata": {
        "id": "ZilMoMLuX6Za"
      },
      "outputs": [],
      "source": [
        "!chmod +x FastQC/fastqc"
      ]
    },
    {
      "cell_type": "code",
      "execution_count": null,
      "metadata": {
        "id": "SQNpbuwYTNtO"
      },
      "outputs": [],
      "source": [
        "!./FastQC/fastqc SRR24035593.fastq\n",
        "!./FastQC/fastqc SRR24035594.fastq\n",
        "!./FastQC/fastqc SRR24035595.fastq\n",
        "!./FastQC/fastqc SRR24035596.fastq\n",
        "!./FastQC/fastqc SRR24035597.fastq\n",
        "!./FastQC/fastqc SRR24035598.fastq\n",
        "# cut at 160-164"
      ]
    },
    {
      "cell_type": "code",
      "execution_count": null,
      "metadata": {
        "id": "DntqFoplf7-e"
      },
      "outputs": [],
      "source": [
        "!pip install cutadapt\n",
        "#!cutadapt -h"
      ]
    },
    {
      "cell_type": "code",
      "execution_count": null,
      "metadata": {
        "id": "SsEXw9UFgsV0",
        "colab": {
          "base_uri": "https://localhost:8080/"
        },
        "outputId": "9c28ddd5-59b4-41bb-f704-b598ba0cadf4"
      },
      "outputs": [
        {
          "output_type": "stream",
          "name": "stdout",
          "text": [
            "This is cutadapt 4.8 with Python 3.10.12\n",
            "Command line parameters: --cut 160 -q 28 -o Trimmed_1t.fastq SRR24035593.fastq\n",
            "Processing single-end reads on 1 core ...\n",
            "Done           00:00:41     5,000,000 reads @   8.3 µs/read;   7.24 M reads/minute\n",
            "Finished in 41.450 s (8.290 µs/read; 7.24 M reads/minute).\n",
            "\n",
            "=== Summary ===\n",
            "\n",
            "Total reads processed:               5,000,000\n",
            "Reads written (passing filters):     5,000,000 (100.0%)\n",
            "\n",
            "Total basepairs processed: 1,510,000,000 bp\n",
            "Quality-trimmed:              19,521,811 bp (1.3%)\n",
            "Total written (filtered):    690,478,189 bp (45.7%)\n"
          ]
        }
      ],
      "source": [
        "!cutadapt --cut 160 -q 28  -o Trimmed_1t.fastq SRR24035593.fastq"
      ]
    },
    {
      "cell_type": "code",
      "execution_count": null,
      "metadata": {
        "id": "EjiO-QJxlrKj",
        "colab": {
          "base_uri": "https://localhost:8080/"
        },
        "outputId": "6864996b-5c92-4279-ce13-9a63de40d2c4"
      },
      "outputs": [
        {
          "output_type": "stream",
          "name": "stdout",
          "text": [
            "This is cutadapt 4.8 with Python 3.10.12\n",
            "Command line parameters: --cut 160 -q 28 -o Trimmed_1c.fastq SRR24035594.fastq\n",
            "Processing single-end reads on 1 core ...\n",
            "Done           00:00:41     5,000,000 reads @   8.3 µs/read;   7.23 M reads/minute\n",
            "Finished in 41.471 s (8.294 µs/read; 7.23 M reads/minute).\n",
            "\n",
            "=== Summary ===\n",
            "\n",
            "Total reads processed:               5,000,000\n",
            "Reads written (passing filters):     5,000,000 (100.0%)\n",
            "\n",
            "Total basepairs processed: 1,510,000,000 bp\n",
            "Quality-trimmed:              21,565,750 bp (1.4%)\n",
            "Total written (filtered):    688,434,250 bp (45.6%)\n"
          ]
        }
      ],
      "source": [
        "!cutadapt --cut 160 -q 28  -o Trimmed_1c.fastq SRR24035594.fastq"
      ]
    },
    {
      "cell_type": "code",
      "execution_count": null,
      "metadata": {
        "id": "zQoovtfSl-YF",
        "colab": {
          "base_uri": "https://localhost:8080/"
        },
        "outputId": "663ce531-3fa9-4a4e-d2e5-a2ba5442de82"
      },
      "outputs": [
        {
          "output_type": "stream",
          "name": "stdout",
          "text": [
            "This is cutadapt 4.8 with Python 3.10.12\n",
            "Command line parameters: --cut 160 -q 28 -o Trimmed_2t.fastq SRR24035595.fastq\n",
            "Processing single-end reads on 1 core ...\n",
            "Done           00:00:36     5,000,000 reads @   7.4 µs/read;   8.15 M reads/minute\n",
            "Finished in 36.835 s (7.367 µs/read; 8.14 M reads/minute).\n",
            "\n",
            "=== Summary ===\n",
            "\n",
            "Total reads processed:               5,000,000\n",
            "Reads written (passing filters):     5,000,000 (100.0%)\n",
            "\n",
            "Total basepairs processed: 1,510,000,000 bp\n",
            "Quality-trimmed:              21,395,549 bp (1.4%)\n",
            "Total written (filtered):    688,604,451 bp (45.6%)\n"
          ]
        }
      ],
      "source": [
        "!cutadapt --cut 160 -q 28  -o Trimmed_2t.fastq SRR24035595.fastq"
      ]
    },
    {
      "cell_type": "code",
      "execution_count": null,
      "metadata": {
        "id": "AqTC1fLlmFx1",
        "colab": {
          "base_uri": "https://localhost:8080/"
        },
        "outputId": "cd3e55a7-4b2c-4792-e0a7-3f85a96a78e6"
      },
      "outputs": [
        {
          "output_type": "stream",
          "name": "stdout",
          "text": [
            "This is cutadapt 4.8 with Python 3.10.12\n",
            "Command line parameters: --cut 160 -q 28 -o Trimmed_2c.fastq SRR24035596.fastq\n",
            "Processing single-end reads on 1 core ...\n",
            "Done           00:00:37     5,000,000 reads @   7.6 µs/read;   7.90 M reads/minute\n",
            "Finished in 37.963 s (7.593 µs/read; 7.90 M reads/minute).\n",
            "\n",
            "=== Summary ===\n",
            "\n",
            "Total reads processed:               5,000,000\n",
            "Reads written (passing filters):     5,000,000 (100.0%)\n",
            "\n",
            "Total basepairs processed: 1,510,000,000 bp\n",
            "Quality-trimmed:              22,983,832 bp (1.5%)\n",
            "Total written (filtered):    687,016,168 bp (45.5%)\n"
          ]
        }
      ],
      "source": [
        "!cutadapt --cut 160 -q 28  -o Trimmed_2c.fastq SRR24035596.fastq"
      ]
    },
    {
      "cell_type": "code",
      "execution_count": null,
      "metadata": {
        "id": "gqRdEdxxwKIp",
        "colab": {
          "base_uri": "https://localhost:8080/"
        },
        "outputId": "9fa902a9-2dba-441e-b83a-ea411f694d0f"
      },
      "outputs": [
        {
          "output_type": "stream",
          "name": "stdout",
          "text": [
            "This is cutadapt 4.8 with Python 3.10.12\n",
            "Command line parameters: --cut 160 -q 28 -o Trimmed_3t.fastq SRR24035597.fastq\n",
            "Processing single-end reads on 1 core ...\n",
            "Done           00:00:40     5,000,000 reads @   8.0 µs/read;   7.49 M reads/minute\n",
            "Finished in 40.061 s (8.012 µs/read; 7.49 M reads/minute).\n",
            "\n",
            "=== Summary ===\n",
            "\n",
            "Total reads processed:               5,000,000\n",
            "Reads written (passing filters):     5,000,000 (100.0%)\n",
            "\n",
            "Total basepairs processed: 1,510,000,000 bp\n",
            "Quality-trimmed:              18,658,246 bp (1.2%)\n",
            "Total written (filtered):    691,341,754 bp (45.8%)\n"
          ]
        }
      ],
      "source": [
        "!cutadapt --cut 160 -q 28  -o Trimmed_3t.fastq SRR24035597.fastq"
      ]
    },
    {
      "cell_type": "code",
      "execution_count": null,
      "metadata": {
        "id": "DiPJXs4zwVlm",
        "colab": {
          "base_uri": "https://localhost:8080/"
        },
        "outputId": "fa190fec-de5b-44c9-fd77-9bc50df92333"
      },
      "outputs": [
        {
          "output_type": "stream",
          "name": "stdout",
          "text": [
            "This is cutadapt 4.8 with Python 3.10.12\n",
            "Command line parameters: --cut 160 -q 28 -o Trimmed_3c.fastq SRR24035598.fastq\n",
            "Processing single-end reads on 1 core ...\n",
            "Done           00:00:48     5,000,000 reads @   9.6 µs/read;   6.24 M reads/minute\n",
            "Finished in 48.065 s (9.613 µs/read; 6.24 M reads/minute).\n",
            "\n",
            "=== Summary ===\n",
            "\n",
            "Total reads processed:               5,000,000\n",
            "Reads written (passing filters):     5,000,000 (100.0%)\n",
            "\n",
            "Total basepairs processed: 1,510,000,000 bp\n",
            "Quality-trimmed:              22,346,941 bp (1.5%)\n",
            "Total written (filtered):    687,653,059 bp (45.5%)\n"
          ]
        }
      ],
      "source": [
        "!cutadapt --cut 160 -q 28  -o Trimmed_3c.fastq SRR24035598.fastq"
      ]
    },
    {
      "cell_type": "code",
      "execution_count": null,
      "metadata": {
        "id": "6LBJ7EWp0NtP"
      },
      "outputs": [],
      "source": [
        "!ls"
      ]
    },
    {
      "cell_type": "code",
      "execution_count": null,
      "metadata": {
        "id": "jDEGwq6j12u3"
      },
      "outputs": [],
      "source": [
        "!apt-get install hisat2\n",
        "!apt install bwa\n",
        "!apt install samtools\n",
        "!apt install bcftools"
      ]
    },
    {
      "cell_type": "code",
      "execution_count": null,
      "metadata": {
        "id": "J6gjROcc2x1V"
      },
      "outputs": [],
      "source": [
        "!gdown 1-0aDSqXLDsrNCEGPRTO4ppqx-0HF-f8R\n",
        "!gzip -df Human38.tar.gz\n",
        "!tar -xf Human38.tar"
      ]
    },
    {
      "cell_type": "code",
      "execution_count": null,
      "metadata": {
        "id": "RH_XVTHZ6EYp"
      },
      "outputs": [],
      "source": [
        "!wget https://genome-idx.s3.amazonaws.com/hisat/grch38_genome.tar.gz\n",
        "!tar -xzf grch38_genome.tar.gz"
      ]
    },
    {
      "cell_type": "code",
      "execution_count": null,
      "metadata": {
        "id": "tZ0fqZIwjbHS"
      },
      "outputs": [],
      "source": [
        "!apt-get install subread\n",
        "!wget https://ftp.ensembl.org/pub/release-102/gtf/homo_sapiens/Homo_sapiens.GRCh38.102.gtf.gz\n",
        "!gunzip Homo_sapiens.GRCh38.102.gtf.gz"
      ]
    },
    {
      "cell_type": "markdown",
      "metadata": {
        "id": "GCVdiZryky2o"
      },
      "source": [
        "Patient 1"
      ]
    },
    {
      "cell_type": "code",
      "execution_count": null,
      "metadata": {
        "id": "9m2PajyWGSAV"
      },
      "outputs": [],
      "source": [
        "# hisat2 not working, suggest bwa mem\n",
        "!bwa aln Human38/Human Trimmed_1t.fastq > Aln_1t.sai"
      ]
    },
    {
      "cell_type": "code",
      "execution_count": null,
      "metadata": {
        "id": "MU6dLsNtluOw"
      },
      "outputs": [],
      "source": [
        "!head -100 Trimmed_1c.fastq"
      ]
    },
    {
      "cell_type": "code",
      "execution_count": null,
      "metadata": {
        "id": "Qfpz3X-0h3Fx"
      },
      "outputs": [],
      "source": [
        "!bwa samse Human38/Human Aln_1t.sai Trimmed_1t.fastq > Pt_1t.sam\n"
      ]
    },
    {
      "cell_type": "code",
      "execution_count": null,
      "metadata": {
        "id": "GMYLJ978xwKF"
      },
      "outputs": [],
      "source": [
        "!featureCounts -a Homo_sapiens.GRCh38.102.gtf -o counts_1t.txt Pt_1t.sam"
      ]
    },
    {
      "cell_type": "code",
      "execution_count": null,
      "metadata": {
        "id": "rZh2R6OGtlCz"
      },
      "outputs": [],
      "source": [
        "!bwa aln Human38/Human Trimmed_1c.fastq  > Aln_1c.sai"
      ]
    },
    {
      "cell_type": "code",
      "execution_count": null,
      "metadata": {
        "id": "lVzgf8MumbJM"
      },
      "outputs": [],
      "source": [
        "!bwa samse Human38/Human Aln_1c.sai Trimmed_1c.fastq > Pt_1c.sam"
      ]
    },
    {
      "cell_type": "code",
      "execution_count": null,
      "metadata": {
        "id": "3GSJ-h1mjnGo"
      },
      "outputs": [],
      "source": [
        "!featureCounts -a Homo_sapiens.GRCh38.102.gtf -o counts_1c.txt Pt_1c.sam"
      ]
    },
    {
      "cell_type": "code",
      "execution_count": null,
      "metadata": {
        "colab": {
          "base_uri": "https://localhost:8080/"
        },
        "id": "wHUU8Kkhskq2",
        "outputId": "06a6b111-4f96-4399-ede7-00a4a5b8c88a"
      },
      "outputs": [
        {
          "name": "stdout",
          "output_type": "stream",
          "text": [
            "60675\n"
          ]
        }
      ],
      "source": [
        "!grep -c 'ENSG' counts_1c.txt"
      ]
    },
    {
      "cell_type": "markdown",
      "metadata": {
        "id": "GeTd_y-PkvvZ"
      },
      "source": [
        "Patient 2"
      ]
    },
    {
      "cell_type": "code",
      "execution_count": null,
      "metadata": {
        "id": "-odL3PXQkm1t"
      },
      "outputs": [],
      "source": [
        "!bwa aln Human38/Human Trimmed_2c.fastq  > Aln_2c.sai\n",
        "!bwa samse Human38/Human Aln_2c.sai Trimmed_2c.fastq > Pt_2c.sam"
      ]
    },
    {
      "cell_type": "code",
      "execution_count": null,
      "metadata": {
        "id": "rufgwzS_xtYo"
      },
      "outputs": [],
      "source": [
        "!featureCounts -a Homo_sapiens.GRCh38.102.gtf -o counts_2c.txt Pt_2c.sam"
      ]
    },
    {
      "cell_type": "code",
      "execution_count": null,
      "metadata": {
        "colab": {
          "background_save": true
        },
        "id": "SYlARX1MkrPz"
      },
      "outputs": [],
      "source": [
        "!bwa aln Human38/Human Trimmed_2t.fastq > Aln_2t.sai\n",
        "!bwa samse Human38/Human Aln_2t.sai Trimmed_2t.fastq > Pt_2t.sam"
      ]
    },
    {
      "cell_type": "code",
      "execution_count": null,
      "metadata": {
        "id": "i0RtRW5txuOT"
      },
      "outputs": [],
      "source": [
        "!featureCounts -a Homo_sapiens.GRCh38.102.gtf -o counts_2t.txt Pt_2t.sam"
      ]
    },
    {
      "cell_type": "markdown",
      "metadata": {
        "id": "35zAp7jck3sw"
      },
      "source": [
        "Patient 3"
      ]
    },
    {
      "cell_type": "code",
      "execution_count": null,
      "metadata": {
        "id": "4xJnmDdjk3e6"
      },
      "outputs": [],
      "source": [
        "!bwa aln Human38/Human Trimmed_3c.fastq  > Aln_3c.sai\n",
        "!bwa samse Human38/Human Aln_3c.sai Trimmed_3c.fastq > Pt_3c.sam"
      ]
    },
    {
      "cell_type": "code",
      "execution_count": null,
      "metadata": {
        "id": "2OajKz9DLf4_"
      },
      "outputs": [],
      "source": [
        "!featureCounts -a Homo_sapiens.GRCh38.102.gtf -o counts_3c.txt Pt_3c.sam"
      ]
    },
    {
      "cell_type": "code",
      "execution_count": null,
      "metadata": {
        "colab": {
          "background_save": true
        },
        "id": "Y3xhBPqhk2y0"
      },
      "outputs": [],
      "source": [
        "\n",
        "!bwa aln Human38/Human Trimmed_3t.fastq > Aln_3t.sai\n",
        "!bwa samse Human38/Human Aln_3t.sai Trimmed_3t.fastq > Pt_3t.sam"
      ]
    },
    {
      "cell_type": "code",
      "execution_count": null,
      "metadata": {
        "id": "i9Tnkgn8aV6D"
      },
      "outputs": [],
      "source": [
        "!featureCounts -a Homo_sapiens.GRCh38.102.gtf -o counts_3t.txt Pt_3t.sam"
      ]
    },
    {
      "cell_type": "markdown",
      "metadata": {
        "id": "kWr1hyXPjoUx"
      },
      "source": [
        "\n",
        "\n",
        "\n",
        "**The** **below** **are** **attempt** **of** **using** **hisat**"
      ]
    },
    {
      "cell_type": "code",
      "execution_count": null,
      "metadata": {
        "id": "cWdpN3bl1WhU"
      },
      "outputs": [],
      "source": [
        "# dont do this, don't combined\n",
        "!cat Trimmed_93.fastq Trimmed_94.fastq Trimmed_95.fastq Trimmed_96.fastq Trimmed_97.fastq Trimmed_98.fastq > Combined.fastq"
      ]
    },
    {
      "cell_type": "markdown",
      "metadata": {
        "id": "dc8ts8PX1kF1"
      },
      "source": [
        "trim each -> hisat each -> feature count for all"
      ]
    },
    {
      "cell_type": "code",
      "source": [
        "!ls"
      ],
      "metadata": {
        "colab": {
          "base_uri": "https://localhost:8080/"
        },
        "id": "dKWPi9tFfVn3",
        "outputId": "7a3a4a14-6c47-42b4-98a0-61baebca138f"
      },
      "execution_count": null,
      "outputs": [
        {
          "output_type": "stream",
          "name": "stdout",
          "text": [
            "grch38\t\t\t     sratoolkit.3.1.0-ubuntu64\t       SRR24035596.fastq  Trimmed_2c.fastq\n",
            "grch38_genome.tar.gz\t     sratoolkit.3.1.0-ubuntu64.tar.gz  SRR24035597.fastq  Trimmed_2t.fastq\n",
            "Homo_sapiens.GRCh38.102.gtf  SRR24035593.fastq\t\t       SRR24035598.fastq  Trimmed_3c.fastq\n",
            "Human38.tar.gz\t\t     SRR24035594.fastq\t\t       Trimmed_1c.fastq   Trimmed_3t.fastq\n",
            "sample_data\t\t     SRR24035595.fastq\t\t       Trimmed_1t.fastq\n"
          ]
        }
      ]
    },
    {
      "cell_type": "code",
      "execution_count": null,
      "metadata": {
        "id": "QPMjAWXy-Jw6"
      },
      "outputs": [],
      "source": [
        "!hisat2 -x grch38/genome -U Trimmed_1c.fastq -S Aln_1c.sam\n",
        "!hisat2 -x grch38/genome -U Trimmed_1t.fastq -S Aln_1t.sam\n",
        "!hisat2 -x grch38/genome -U Trimmed_2c.fastq -S Aln_2c.sam\n",
        "!hisat2 -x grch38/genome -U Trimmed_2t.fastq -S Aln_2t.sam\n",
        "!hisat2 -x grch38/genome -U Trimmed_3c.fastq -S Aln_3c.sam\n",
        "!hisat2 -x grch38/genome -U Trimmed_3t.fastq -S Aln_3t.sam"
      ]
    },
    {
      "cell_type": "code",
      "execution_count": null,
      "metadata": {
        "id": "w9Zb9KKZ-gfi"
      },
      "outputs": [],
      "source": [
        "#!samtools view Aln_human.sam"
      ]
    },
    {
      "cell_type": "code",
      "execution_count": null,
      "metadata": {
        "id": "ZlSv3x-7EuwB"
      },
      "outputs": [],
      "source": [
        "!apt-get install subread"
      ]
    },
    {
      "cell_type": "code",
      "execution_count": null,
      "metadata": {
        "id": "X5RiUgv7UeI9"
      },
      "outputs": [],
      "source": [
        "!wget https://ftp.ensembl.org/pub/release-102/gtf/homo_sapiens/Homo_sapiens.GRCh38.102.gtf.gz\n",
        "!gunzip Homo_sapiens.GRCh38.102.gtf.gz"
      ]
    },
    {
      "cell_type": "code",
      "execution_count": null,
      "metadata": {
        "id": "tAVkhLfFnisI"
      },
      "outputs": [],
      "source": [
        "#!hisat2 -x Homo_sapiens.GRCh38.102.gtf -U Trimmed_1c.fastq -S Pt_1c.sam\n",
        "#!featureCounts -a Homo_sapiens.GRCh38.102.gtf -o P1c_counts.txt  Pt_1c.sam"
      ]
    },
    {
      "cell_type": "code",
      "execution_count": null,
      "metadata": {
        "id": "GmGgtPx5EuUb",
        "colab": {
          "base_uri": "https://localhost:8080/"
        },
        "outputId": "c5aa723d-a5e3-4888-ef8a-95a2518a47ce"
      },
      "outputs": [
        {
          "output_type": "stream",
          "name": "stdout",
          "text": [
            "\n",
            "       \u001b[44;37m ========== \u001b[0m\u001b[36m    _____ _    _ ____  _____  ______          _____  \n",
            "       \u001b[44;37m =====      \u001b[0m\u001b[36m   / ____| |  | |  _ \\|  __ \\|  ____|   /\\   |  __ \\ \n",
            "       \u001b[44;37m   =====    \u001b[0m\u001b[36m  | (___ | |  | | |_) | |__) | |__     /  \\  | |  | |\n",
            "       \u001b[44;37m     ====   \u001b[0m\u001b[36m   \\___ \\| |  | |  _ <|  _  /|  __|   / /\\ \\ | |  | |\n",
            "       \u001b[44;37m       ==== \u001b[0m\u001b[36m   ____) | |__| | |_) | | \\ \\| |____ / ____ \\| |__| |\n",
            "       \u001b[44;37m ========== \u001b[0m\u001b[36m  |_____/ \\____/|____/|_|  \\_\\______/_/    \\_\\_____/\u001b[0m\n",
            "\t  v2.0.3\n",
            "\n",
            "//==========================\u001b[36m featureCounts setting \u001b[0m===========================\\\\\n",
            "||  \u001b[0m                                                                          ||\n",
            "||             Input files : \u001b[36m6 SAM files  \u001b[0m \u001b[0m                                   ||\n",
            "||  \u001b[0m                                                                          ||\n",
            "||                           \u001b[36mAln_1c.sam\u001b[0m \u001b[0m                                      ||\n",
            "||                           \u001b[36mAln_1t.sam\u001b[0m \u001b[0m                                      ||\n",
            "||                           \u001b[36mAln_2c.sam\u001b[0m \u001b[0m                                      ||\n",
            "||                           \u001b[36mAln_2t.sam\u001b[0m \u001b[0m                                      ||\n",
            "||                           \u001b[36mAln_3c.sam\u001b[0m \u001b[0m                                      ||\n",
            "||                           \u001b[36mAln_3t.sam\u001b[0m \u001b[0m                                      ||\n",
            "||  \u001b[0m                                                                          ||\n",
            "||             Output file : \u001b[36mhisat_counts.txt\u001b[0m \u001b[0m                                ||\n",
            "||                 Summary : \u001b[36mhisat_counts.txt.summary\u001b[0m \u001b[0m                        ||\n",
            "||              Paired-end : \u001b[36mno\u001b[0m \u001b[0m                                              ||\n",
            "||        Count read pairs : \u001b[36mno\u001b[0m \u001b[0m                                              ||\n",
            "||              Annotation : \u001b[36mHomo_sapiens.GRCh38.102.gtf (GTF)\u001b[0m \u001b[0m               ||\n",
            "||      Dir for temp files : \u001b[36m./\u001b[0m \u001b[0m                                              ||\n",
            "||  \u001b[0m                                                                          ||\n",
            "||                 Threads : \u001b[36m1\u001b[0m \u001b[0m                                               ||\n",
            "||                   Level : \u001b[36mmeta-feature level\u001b[0m \u001b[0m                              ||\n",
            "||      Multimapping reads : \u001b[36mnot counted\u001b[0m \u001b[0m                                     ||\n",
            "|| Multi-overlapping reads : \u001b[36mnot counted\u001b[0m \u001b[0m                                     ||\n",
            "||   Min overlapping bases : \u001b[36m1\u001b[0m \u001b[0m                                               ||\n",
            "||  \u001b[0m                                                                          ||\n",
            "\\\\============================================================================//\n",
            "\n",
            "//=================================\u001b[36m Running \u001b[0m==================================\\\\\n",
            "||  \u001b[0m                                                                          ||\n",
            "|| Load annotation file Homo_sapiens.GRCh38.102.gtf \u001b[0m... \u001b[0m                      ||\n",
            "||    Features : \u001b[36m1429266\u001b[0m \u001b[0m                                                     ||\n",
            "||    Meta-features : \u001b[36m60675\u001b[0m \u001b[0m                                                  ||\n",
            "||    Chromosomes/contigs : \u001b[36m47\u001b[0m \u001b[0m                                               ||\n",
            "||  \u001b[0m                                                                          ||\n",
            "|| Process SAM file Aln_1c.sam... \u001b[0m                                            ||\n",
            "||    Single-end reads are included. \u001b[0m                                         ||\n",
            "||    Total alignments : \u001b[36m6848781\u001b[0m \u001b[0m                                             ||\n",
            "||    Successfully assigned alignments : \u001b[36m2268503 (33.1%)\u001b[0m \u001b[0m                     ||\n",
            "||    Running time : \u001b[36m0.62 minutes\u001b[0m \u001b[0m                                            ||\n",
            "||  \u001b[0m                                                                          ||\n",
            "|| Process SAM file Aln_1t.sam... \u001b[0m                                            ||\n",
            "||    Single-end reads are included. \u001b[0m                                         ||\n",
            "||    Total alignments : \u001b[36m6486995\u001b[0m \u001b[0m                                             ||\n",
            "||    Successfully assigned alignments : \u001b[36m2334170 (36.0%)\u001b[0m \u001b[0m                     ||\n",
            "||    Running time : \u001b[36m0.57 minutes\u001b[0m \u001b[0m                                            ||\n",
            "||  \u001b[0m                                                                          ||\n",
            "|| Process SAM file Aln_2c.sam... \u001b[0m                                            ||\n",
            "||    Single-end reads are included. \u001b[0m                                         ||\n",
            "||    Total alignments : \u001b[36m7082315\u001b[0m \u001b[0m                                             ||\n",
            "||    Successfully assigned alignments : \u001b[36m2172981 (30.7%)\u001b[0m \u001b[0m                     ||\n",
            "||    Running time : \u001b[36m0.61 minutes\u001b[0m \u001b[0m                                            ||\n",
            "||  \u001b[0m                                                                          ||\n",
            "|| Process SAM file Aln_2t.sam... \u001b[0m                                            ||\n",
            "||    Single-end reads are included. \u001b[0m                                         ||\n",
            "||    Total alignments : \u001b[36m6932539\u001b[0m \u001b[0m                                             ||\n",
            "||    Successfully assigned alignments : \u001b[36m2160548 (31.2%)\u001b[0m \u001b[0m                     ||\n",
            "||    Running time : \u001b[36m0.62 minutes\u001b[0m \u001b[0m                                            ||\n",
            "||  \u001b[0m                                                                          ||\n",
            "|| Process SAM file Aln_3c.sam... \u001b[0m                                            ||\n",
            "||    Single-end reads are included. \u001b[0m                                         ||\n",
            "||    Total alignments : \u001b[36m6968198\u001b[0m \u001b[0m                                             ||\n",
            "||    Successfully assigned alignments : \u001b[36m2117521 (30.4%)\u001b[0m \u001b[0m                     ||\n",
            "||    Running time : \u001b[36m0.43 minutes\u001b[0m \u001b[0m                                            ||\n",
            "||  \u001b[0m                                                                          ||\n",
            "|| Process SAM file Aln_3t.sam... \u001b[0m                                            ||\n",
            "||    Single-end reads are included. \u001b[0m                                         ||\n",
            "||    Total alignments : \u001b[36m6742730\u001b[0m \u001b[0m                                             ||\n",
            "||    Successfully assigned alignments : \u001b[36m2271079 (33.7%)\u001b[0m \u001b[0m                     ||\n",
            "||    Running time : \u001b[36m0.35 minutes\u001b[0m \u001b[0m                                            ||\n",
            "||  \u001b[0m                                                                          ||\n",
            "|| Write the final count table. \u001b[0m                                              ||\n",
            "|| Write the read assignment summary. \u001b[0m                                        ||\n",
            "||  \u001b[0m                                                                          ||\n",
            "|| Summary of counting results can be found in file \"hisat_counts.txt.summar \u001b[0m ||\n",
            "|| y\" \u001b[0m                                                                        ||\n",
            "||  \u001b[0m                                                                          ||\n",
            "\\\\============================================================================//\n",
            "\n"
          ]
        }
      ],
      "source": [
        "!featureCounts -a Homo_sapiens.GRCh38.102.gtf -o hisat_counts.txt  *.sam"
      ]
    },
    {
      "cell_type": "code",
      "execution_count": null,
      "metadata": {
        "id": "sSOvPIIaZvi4"
      },
      "outputs": [],
      "source": [
        "!head -n 100 counts.txt.summary"
      ]
    },
    {
      "cell_type": "code",
      "execution_count": null,
      "metadata": {
        "id": "mAipQv94FPrI"
      },
      "outputs": [],
      "source": [
        "!head -n 50 counts.txt"
      ]
    }
  ],
  "metadata": {
    "colab": {
      "provenance": []
    },
    "kernelspec": {
      "display_name": "Python 3",
      "name": "python3"
    },
    "language_info": {
      "name": "python"
    }
  },
  "nbformat": 4,
  "nbformat_minor": 0
}